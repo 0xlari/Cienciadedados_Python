{
  "nbformat": 4,
  "nbformat_minor": 0,
  "metadata": {
    "colab": {
      "provenance": [],
      "authorship_tag": "ABX9TyOp3XcdeTfTqu0HFz0Z+csS",
      "include_colab_link": true
    },
    "kernelspec": {
      "name": "python3",
      "display_name": "Python 3"
    },
    "language_info": {
      "name": "python"
    }
  },
  "cells": [
    {
      "cell_type": "markdown",
      "metadata": {
        "id": "view-in-github",
        "colab_type": "text"
      },
      "source": [
        "<a href=\"https://colab.research.google.com/github/0xlari/Cienciadedados_Python/blob/main/Meu_primeiro_algoritmo.ipynb\" target=\"_parent\"><img src=\"https://colab.research.google.com/assets/colab-badge.svg\" alt=\"Open In Colab\"/></a>"
      ]
    },
    {
      "cell_type": "code",
      "source": [
        "print (\"Seja bem vindo a calculadora inteligente\")\n",
        "\n",
        "\n",
        "while True:\n",
        "  try:\n",
        "    n1 = float(input(\"Digite um numero:\"))\n",
        "    n2 = float(input(\"Digite outro numero:\"))\n",
        "  except ValueError:\n",
        "    print (\"Precisa ser um numero!\")\n",
        "    continue\n",
        "\n",
        "  operação = input(\"Digite a operação que deseja realizar ou sair para encerrar:\")\n",
        "\n",
        "  if operação == \"+\":\n",
        "    print (f\"Resultado: {n1+n2}\")\n",
        "  elif operação == \"-\":\n",
        "    print (f\"Resultado: {n1-n2}\")\n",
        "  elif operação == \"*\":\n",
        "    print (f\"Resultado:{n1*n2}\")\n",
        "  elif operação == \"/\":\n",
        "        if n2 == 0:\n",
        "            print(\"Erro! Divisão por zero não é permitida.\")\n",
        "        else:\n",
        "            print(f\"Resultado: {n1 / n2}\")\n",
        "\n",
        "  elif operação.lower() == \"sair\":\n",
        "        print(\"Encerrando a calculadora. Obrigado por usar!\")\n",
        "        break\n"
      ],
      "metadata": {
        "colab": {
          "base_uri": "https://localhost:8080/"
        },
        "id": "GL_O0N3DWWjv",
        "outputId": "a1546a3a-eb23-443f-b95a-23ed22d42778"
      },
      "execution_count": 28,
      "outputs": [
        {
          "output_type": "stream",
          "name": "stdout",
          "text": [
            "Seja bem vindo a calculadora inteligente\n",
            "Digite um numero:0\n",
            "Digite outro numero6\n",
            "Digite a operação que deseja realizar ou sair para encerrar:/\n",
            "Resultado: 0.0\n",
            "Digite um numero:10\n",
            "Digite outro numero0\n",
            "Digite a operação que deseja realizar ou sair para encerrar:/\n",
            "Erro! Divisão por zero não é permitida.\n",
            "Digite um numero:5\n",
            "Digite outro numero6\n",
            "Digite a operação que deseja realizar ou sair para encerrar:sair\n",
            "Encerrando a calculadora. Obrigado por usar!\n"
          ]
        }
      ]
    }
  ]
}